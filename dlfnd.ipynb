{
 "cells": [
  {
   "cell_type": "markdown",
   "metadata": {},
   "source": [
    "$$\n",
    "y = \\sqrt{a}\n",
    "$$"
   ]
  },
  {
   "cell_type": "code",
   "execution_count": 20,
   "metadata": {},
   "outputs": [
    {
     "name": "stdout",
     "output_type": "stream",
     "text": [
      "[ 0.1  0.1  0.1]\n",
      "1 False 0 [ 3.1  4.1 -9.9]\n",
      "2 False 0 [ 3.2  4.2 -9.8]\n",
      "3 False 0 [ 3.3  4.3 -9.7]\n",
      "4 False 0 [ 3.4  4.4 -9.6]\n",
      "5 False 0 [ 3.5  4.5 -9.5]\n",
      "6 False 0 [ 3.6  4.6 -9.4]\n",
      "7 False 0 [ 3.7  4.7 -9.3]\n",
      "8 False 0 [ 3.8  4.8 -9.2]\n",
      "9 False 0 [ 3.9  4.9 -9.1]\n",
      "10 False 0 [ 4.  5. -9.]\n",
      "11 True 1 [ 4.1  5.1 -8.9]\n",
      "12 False 0 [ 4.  5. -9.]\n",
      "13 True 1 [ 4.1  5.1 -8.9]\n",
      "14 False 0 [ 4.  5. -9.]\n",
      "15 True 1 [ 4.1  5.1 -8.9]\n",
      "16 False 0 [ 4.  5. -9.]\n",
      "17 True 1 [ 4.1  5.1 -8.9]\n",
      "18 False 0 [ 4.  5. -9.]\n",
      "19 True 1 [ 4.1  5.1 -8.9]\n",
      "20 False 0 [ 4.  5. -9.]\n"
     ]
    }
   ],
   "source": [
    "%matplotlib inline\n",
    "import matplotlib.pyplot as plt\n",
    "import numpy as np\n",
    "\n",
    "def f(w,x):\n",
    "    v = np.dot(w,x)\n",
    "    if v < 0:\n",
    "        return 0\n",
    "    else:\n",
    "        return 1\n",
    "\n",
    "def lrn(v,w,r):\n",
    "    if v == 0:\n",
    "        # subtract\n",
    "        w = w + r\n",
    "    else:\n",
    "        w = w - r\n",
    "    return w\n",
    "\n",
    "w = np.array([3,4,-10])\n",
    "x = np.array([1,1,1])\n",
    "r = np.full_like(x,0.1,dtype=float)\n",
    "print(r)\n",
    "\n",
    "v = f(w,x)\n",
    "for i in range(20):\n",
    "    w = lrn(v,w,r)\n",
    "    v = f(w,x)\n",
    "    b = v > 0\n",
    "    print(i+1,b,v,w)\n"
   ]
  },
  {
   "cell_type": "code",
   "execution_count": null,
   "metadata": {},
   "outputs": [],
   "source": []
  }
 ],
 "metadata": {
  "kernelspec": {
   "display_name": "Python [conda root]",
   "language": "python",
   "name": "conda-root-py"
  },
  "language_info": {
   "codemirror_mode": {
    "name": "ipython",
    "version": 3
   },
   "file_extension": ".py",
   "mimetype": "text/x-python",
   "name": "python",
   "nbconvert_exporter": "python",
   "pygments_lexer": "ipython3",
   "version": "3.6.3"
  }
 },
 "nbformat": 4,
 "nbformat_minor": 2
}
